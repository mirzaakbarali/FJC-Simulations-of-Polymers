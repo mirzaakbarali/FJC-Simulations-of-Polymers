{
 "cells": [
  {
   "cell_type": "markdown",
   "metadata": {
    "id": "bNqsu0f42BL0"
   },
   "source": [
    "Practical Work: Soft Matter\n",
    "===========\n",
    "<i><u>Authors</u></i>\n",
    "> 1. Nitesh Khatiwada$^{*}$\n",
    "> 2. Mirza Akbar Ali$^{\\dagger}$\n",
    "\n",
    "##### Abstract: The following project carries out the numerical simulations of ideal chain model of polymer. It verifies numerically the mean square end-to-end distance, $<Q^2>$, mean square radius of gyration $<R_g^2>$, probability distribution of end-to-end distance $P(Q)$, singluar behaviour $P(Q)$ for $N=2$, and structure factor, comparing with the theoretical results. Furthermore, it simulates the extension of the polymer in $\\vec{x}$ direction by applying Force, $\\vec{F}$ in the same direction, using Metropolis Monte-Carlo algorithm.\n",
    "<br>\n",
    "\n",
    "${*\\dagger}$ QuanTEEM Group of Université de Bourgogne Franche-Comté, Dijon"
   ]
  },
  {
   "cell_type": "markdown",
   "metadata": {
    "id": "aZfHQQ1x2BL7"
   },
   "source": [
    "###### Libraries, plotting parameters, and fixed constants"
   ]
  },
  {
   "cell_type": "code",
   "execution_count": null,
   "metadata": {
    "id": "pe-7s_vh2BL_"
   },
   "outputs": [],
   "source": [
    "import numpy as np\n",
    "import matplotlib.pyplot as plt\n",
    "import matplotlib as mpl\n",
    "import math\n",
    "from scipy.spatial.distance import pdist\n",
    "from sklearn.linear_model import LinearRegression\n",
    "\n",
    "plt.rcParams.update({\n",
    "        \"pgf.texsystem\": \"pdflatex\",\n",
    "        'font.family': 'serif',\n",
    "        'text.usetex': True,\n",
    "        'pgf.rcfonts': False,\n",
    "        'axes.linewidth': 1,\n",
    "        'lines.linewidth': 1,\n",
    "        'figure.figsize': (4, 2.6)      # adjust this value to resize the figure (width, height)\n",
    "    })\n",
    "plt.rc('font', size=8)\n",
    "plt.rc('axes', labelsize=7)\n",
    "plt.rc('xtick', labelsize=7)\n",
    "plt.rc('ytick', labelsize=7)\n",
    "\n",
    "b = 3                                 # bond vector length"
   ]
  },
  {
   "cell_type": "code",
   "execution_count": null,
   "metadata": {
    "id": "TatFk_jE2BMD"
   },
   "outputs": [],
   "source": [
    "def write_xyz_data(N, T, b=3.0):\n",
    "    ''' Writes xyz coordinates data into a file such that (x,y,z) are the points inside the sphere of radius b\n",
    "    for each conformation T and total number of monomers N.\n",
    "    \n",
    "    Parameters\n",
    "    ----------\n",
    "    N: int\n",
    "        The number of monomers in a polymer\n",
    "    T: int\n",
    "        The total number of conformations or frames\n",
    "    b: float\n",
    "        The bond lenght between each pair of monomers. The default value is 3.0\n",
    "        \n",
    "    Returns\n",
    "    -------\n",
    "        a. The output file with xyz data. The filename is set to 'simulation_FJC_b=%.1f_N=%d_T=%d.xyz'%(b,N,T)\n",
    "        b. The name of the output file into a string\n",
    "    \n",
    "    '''\n",
    "    x=np.zeros((T,N+1)); y=np.zeros((T,N+1)); z=np.zeros((T,N+1))\n",
    "\n",
    "    for t in range(T):\n",
    "\n",
    "        bx, by, bz = np.random.uniform(-1,1,10*N), np.random.uniform(-1,1,10*N), np.random.uniform(-1,1,10*N)\n",
    "        normb=np.sqrt(bx**2+by**2+bz**2)\n",
    "\n",
    "        idb=np.where(normb<=1)[0][0:N]\n",
    "        bx, by, bz =bx[idb]/normb[idb], by[idb]/normb[idb], bz[idb]/normb[idb]\n",
    "\n",
    "        vb=b*np.array([bx,by,bz])   \n",
    "        x[t,1:], y[t,1:], z[t,1:] = np.cumsum(vb[0]), np.cumsum(vb[1]), np.cumsum(vb[2])\n",
    "                                       \n",
    "    filename='simulation_FJC_b=%.1f_N=%d_T=%d.xyz'%(b,N,T)\n",
    "    with open(filename,'w') as f:\n",
    "        for t in range(T):\n",
    "            f.write('%d\\n'%(N+1))\n",
    "            f.write('t=%d\\n'%t)\n",
    "            for n in range(N+1):\n",
    "                f.write('C %8.3f %8.3f %8.3f\\n'%(x[t,n],y[t,n],z[t,n]))\n",
    "    return filename\n",
    "\n",
    "def read_xyz_data(filename, N, T):\n",
    "    ''' Reads xyz file format data and returns a T * N dimensional array\n",
    "    \n",
    "    Parameters\n",
    "    ----------\n",
    "    filename: str\n",
    "        The name of the file with extension .xyz\n",
    "    N: int\n",
    "        The number of monomers in a polymer\n",
    "    T: int\n",
    "        The total number of conformations or frames\n",
    "        \n",
    "    Returns\n",
    "    -------\n",
    "        T * N * 3 dimensional array\n",
    "    '''\n",
    "    data = []\n",
    "    with open(filename,'r') as f:\n",
    "        for t in range(T):\n",
    "            f.readline()\n",
    "            f.readline()\n",
    "            for n in range(N+1):\n",
    "                data.append(list(map(float, f.readline().strip().split()[1:])))\n",
    "    data = np.reshape(data, (T, N+1, 3))\n",
    "    return data\n",
    "\n",
    "def end_to_end_distance(data):\n",
    "    ''' Calculates end-to-end distance Q and <Q^2> of polymer for each conformation\n",
    "    \n",
    "    Parameters\n",
    "    ----------\n",
    "    data: T * N * 3 dimensional array\n",
    "    \n",
    "    Returns\n",
    "    -------\n",
    "        a. End-to-End distance array of size T \n",
    "        b. The average of the squared of the end to end distance, <Q^2>\n",
    "    '''\n",
    "    q = [np.linalg.norm(data[i][-1] - data[i][0]) for i in range(len(data))]\n",
    "    q_sq_mean = np.mean(np.array(q)**2)\n",
    "    return q, q_sq_mean\n",
    "\n",
    "def radius_of_gyration(data):\n",
    "    ''' Calculates the radius of gyration Rg and <Rg^2> of polymer for each conformation\n",
    "    \n",
    "    Parameters\n",
    "    ----------\n",
    "    data: T * N * 3 dimensional array\n",
    "    \n",
    "    Returns\n",
    "    -------\n",
    "        a. Radius of gyration array of size T\n",
    "        b. The average of the squared of radius of gyration, <Rg^2>\n",
    "    '''\n",
    "    Rcm = [[np.mean(data[i][:,0]), np.mean(data[i][:,1]), np.mean(data[i][:,2])] for i in range(len(data))] # center of mass\n",
    "    rg = [np.sqrt(np.mean((data[i][:,0] - Rcm[i][0])**2 + (data[i][:,1] - Rcm[i][1])**2 + (data[i][:,2] - Rcm[i][2])**2)) for i in range(len(data))]\n",
    "    rg_sq_mean =  np.mean(np.array(rg)**2)\n",
    "    return rg, rg_sq_mean"
   ]
  },
  {
   "cell_type": "markdown",
   "metadata": {
    "id": "bxltPEkO2BMK"
   },
   "source": [
    "##### GOAL 1"
   ]
  },
  {
   "cell_type": "code",
   "execution_count": null,
   "metadata": {
    "id": "nuxfelQH2BMM"
   },
   "outputs": [],
   "source": [
    "N_values = [10, 20, 50, 100, 200, 300, 400, 500, 600, 700, 800, 900, 1000]\n",
    "T = 10000\n",
    "b = 3\n",
    "\n",
    "Q_sq_mean_simulation, Rg_sq_mean_simulation = [], []\n",
    "for N in N_values:\n",
    "    file = write_xyz_data(N, T, b)\n",
    "    data = read_xyz_data(file, N, T)\n",
    "    \n",
    "    Q, Q_sq_mean = end_to_end_distance(data)\n",
    "    Q_sq_mean_simulation.append(Q_sq_mean)\n",
    "      \n",
    "    Rg, Rg_sq_mean = radius_of_gyration(data)\n",
    "    Rg_sq_mean_simulation.append(Rg_sq_mean)\n",
    "\n",
    "N_values_all = np.arange(1, 1000)\n",
    "Q_sq_mean_theoretical = [N * b**2 for N in N_values_all]\n",
    "Rg_sq_mean_theoretical = [N * b**2 * 1/6 for N in N_values_all]"
   ]
  },
  {
   "cell_type": "code",
   "execution_count": null,
   "metadata": {
    "colab": {
     "base_uri": "https://localhost:8080/",
     "height": 190
    },
    "id": "R6l525G42BMN",
    "outputId": "9ade592f-6f74-4229-d7c9-72d138fe7425"
   },
   "outputs": [
    {
     "data": {
      "image/png": "[encoded data removed]",
      "text/plain": [
       "<Figure size 288x180 with 1 Axes>"
      ]
     },
     "metadata": {
      "needs_background": "light"
     },
     "output_type": "display_data"
    }
   ],
   "source": [
    "plt.scatter(N_values, Q_sq_mean_simulation, s=12, facecolors='none', edgecolors='blue', label='Simulation')\n",
    "plt.plot(N_values_all, Q_sq_mean_theoretical, '--', label='Theoretical', color='red')\n",
    "X = np.array(N_values).reshape(-1,1)\n",
    "Y = np.array(Q_sq_mean_simulation).reshape(-1,1)\n",
    "reg = LinearRegression().fit(X, Y)\n",
    "reg_value = reg.score(X, Y)\n",
    "intercept = reg.intercept_\n",
    "coef = reg.coef_\n",
    "slope_uncertainty = abs(coef[0,0]) * np.sqrt(1/(len(N_values) - 2) * (1-reg_value**2)/(reg_value**2))\n",
    "plt.text(0, 6500, '$R^2 = {:10.4f}$'.format(reg_value))\n",
    "plt.text(0, 5500, 'Slope, $b^2 = {:10.4f} \\pm {:10.4f}$'.format(coef[0,0], slope_uncertainty))\n",
    "plt.xlabel('$N$')\n",
    "plt.ylabel(r'$\\langle Q^2 \\rangle $')\n",
    "plt.legend(fontsize=8)\n",
    "# plt.show()\n",
    "plt.savefig('QMeanSq.pgf')"
   ]
  },
  {
   "cell_type": "code",
   "execution_count": null,
   "metadata": {
    "colab": {
     "base_uri": "https://localhost:8080/",
     "height": 190
    },
    "id": "Mvg7Q8JM2BMQ",
    "outputId": "d5b04fe8-d2fd-4982-ab6c-ec97314c3d23"
   },
   "outputs": [
    {
     "data": {
      "image/png": "[encoded data removed]",
      "text/plain": [
       "<Figure size 288x180 with 1 Axes>"
      ]
     },
     "metadata": {
      "needs_background": "light"
     },
     "output_type": "display_data"
    }
   ],
   "source": [
    "plt.scatter(N_values, Rg_sq_mean_simulation, s=12, facecolors='none', edgecolors='blue', label='Simulations')\n",
    "plt.plot(N_values_all, Rg_sq_mean_theoretical, '--', label='Theoretical', color='red')\n",
    "X = np.array(N_values).reshape(-1,1)\n",
    "Y = np.array(Rg_sq_mean_simulation).reshape(-1,1)\n",
    "reg = LinearRegression().fit(X, Y)\n",
    "reg_value = reg.score(X, Y)\n",
    "intercept = reg.intercept_\n",
    "coef = reg.coef_\n",
    "slope_uncertainty = abs(coef[0,0]) * np.sqrt(1/(len(N_values) - 2) * (1-reg_value**2)/(reg_value**2))\n",
    "plt.text(0, 1100, '$R^2 = {:10.4f}$'.format(reg_value))\n",
    "plt.text(0, 900, 'Slope, $b^2/6 = {:10.4f} \\pm {:10.4f}$'.format(coef[0,0], slope_uncertainty))\n",
    "plt.xlabel('$N$')\n",
    "plt.ylabel(r'$ \\langle R_g^2 \\rangle$')\n",
    "plt.legend()\n",
    "# plt.show()\n",
    "plt.savefig('RgMeanSq.pgf')\n",
    "# comment Imp: There was latex rendering problem with the y axis label."
   ]
  },
  {
   "cell_type": "markdown",
   "metadata": {
    "id": "H0sk5Fcw2BMS"
   },
   "source": [
    "##### GOAL 2"
   ]
  },
  {
   "cell_type": "code",
   "execution_count": null,
   "metadata": {
    "id": "9JBBfBup2BMU",
    "scrolled": true
   },
   "outputs": [],
   "source": [
    "N = 100\n",
    "T = 100000\n",
    "file = write_xyz_data(N, T)\n",
    "data = read_xyz_data(file, N, T)\n",
    "q, q_sq_mean = end_to_end_distance(data)"
   ]
  },
  {
   "cell_type": "code",
   "execution_count": null,
   "metadata": {
    "colab": {
     "base_uri": "https://localhost:8080/",
     "height": 213
    },
    "id": "frlbm9IJ2BMV",
    "outputId": "5b113408-d234-4983-af7b-f335700fcfd8"
   },
   "outputs": [
    {
     "name": "stdout",
     "output_type": "stream",
     "text": [
      "1.2244549102948998\n"
     ]
    },
    {
     "data": {
      "image/png": "[encoded data removed]",
      "text/plain": [
       "<Figure size 288x187.2 with 1 Axes>"
      ]
     },
     "metadata": {
      "needs_background": "light"
     },
     "output_type": "display_data"
    }
   ],
   "source": [
    "# Histogram Plot for Probability distribution, P(Q)\n",
    "qTh = np.arange(0, N, 0.01)\n",
    "theP = 4 * math.pi * np.array(qTh)**2 *  (3/(2 * math.pi * N * b**2))**(3/2) * np.exp(-((3 * np.array(qTh)**2))/(2 * N * b**2))\n",
    "\n",
    "n, bins, patches = plt.hist(q, bins=150, range=(min(q), max(q)), density=True, label='Simulation')\n",
    "mids = 0.5*(bins[1:] + bins[:-1])\n",
    "mean = np.average(mids, weights=n)\n",
    "error = 2 * (bins[1] - bins[0])\n",
    "print(error)\n",
    "dev = np.sqrt(np.average((mids - mean)**2, weights=n))\n",
    "plt.plot(qTh, theP, '-', linewidth=2, label='Theoretical', color='red')\n",
    "plt.text(65, 0.026, '$\\mu = {:10.4f} \\pm {:10.4f}$'.format(mean, error))\n",
    "# plt.text(80, 0.023, '$\\sigma = {:10.4f}$'.format(dev, error))\n",
    "plt.xlabel('End to End Distance, $Q$')\n",
    "plt.ylabel('Probability Distribution, $P(Q)$')\n",
    "plt.legend()\n",
    "# plt.show()\n",
    "plt.savefig('Histo.pgf')"
   ]
  },
  {
   "cell_type": "code",
   "execution_count": null,
   "metadata": {
    "id": "D9b8DwKw2BMX"
   },
   "outputs": [],
   "source": [
    "# Singular behaviour\n",
    "N = 2\n",
    "T = 10000\n",
    "file = write_xyz_data(N, T)\n",
    "data = read_xyz_data(file, N, T)\n",
    "q, q_sq_mean = end_to_end_distance(data)"
   ]
  },
  {
   "cell_type": "code",
   "execution_count": null,
   "metadata": {
    "colab": {
     "base_uri": "https://localhost:8080/",
     "height": 196
    },
    "id": "ISpfrmCc2BMZ",
    "outputId": "e80f08a3-318e-42d2-ecd0-41bf47341f9b"
   },
   "outputs": [
    {
     "data": {
      "image/png": "[encoded data removed]",
      "text/plain": [
       "<Figure size 288x187.2 with 1 Axes>"
      ]
     },
     "metadata": {
      "needs_background": "light"
     },
     "output_type": "display_data"
    }
   ],
   "source": [
    "qTh = np.arange(0, 2*b, 0.01)\n",
    "theP = qTh/(2*b**2)\n",
    "\n",
    "bins_value = 50\n",
    "n, bins, patches = plt.hist(q, bins=bins_value, range=(min(q), max(q)), density=True, label='Simulation')\n",
    "\n",
    "x_axis = np.linspace(min(q), max(q), bins_value)\n",
    "X = np.array(x_axis).reshape(-1,1)\n",
    "Y = np.array(n).reshape(-1,1)\n",
    "reg = LinearRegression().fit(X, Y)\n",
    "reg_value = reg.score(X, Y)\n",
    "intercept = reg.intercept_\n",
    "coef = reg.coef_\n",
    "slope_uncertainty = abs(coef[0,0]) * np.sqrt(1/(len(x_axis) - 2) * (1-reg_value**2)/(reg_value**2))\n",
    "plt.text(0, 0.25, '$R^2 = {:10.4f}$'.format(reg_value))\n",
    "plt.text(0, 0.22, 'Slope, $1/2b^2 = {:10.4f} \\pm {:10.4f}$'.format(coef[0,0], slope_uncertainty))\n",
    "\n",
    "plt.plot(qTh, theP, '-', linewidth=2.5, label='Theoretical', color='red')\n",
    "plt.xlabel('End to End Distance, $Q$')\n",
    "plt.ylabel('Probability Distribution, $P(Q)$')\n",
    "plt.legend()\n",
    "# plt.show()\n",
    "plt.savefig('singular.pgf')"
   ]
  },
  {
   "cell_type": "markdown",
   "metadata": {
    "id": "R4Kv1eFG2BMZ"
   },
   "source": [
    "##### GOAL 3"
   ]
  },
  {
   "cell_type": "code",
   "execution_count": null,
   "metadata": {
    "id": "I6UO61TE2BMZ"
   },
   "outputs": [],
   "source": [
    "k_values = np.linspace(0, 0.2, 25)"
   ]
  },
  {
   "cell_type": "code",
   "execution_count": null,
   "metadata": {
    "id": "SkTRibKS2BMa"
   },
   "outputs": [],
   "source": [
    "# Calculation of structure factor\n",
    "N = 100\n",
    "T = 10000\n",
    "file = write_xyz_data(N, T)\n",
    "data = read_xyz_data(file, N, T)"
   ]
  },
  {
   "cell_type": "code",
   "execution_count": null,
   "metadata": {
    "id": "9gBMOI4d2BMb"
   },
   "outputs": [],
   "source": [
    "I_values = []\n",
    "for k in k_values[1:]:                         # for k=0, value gets undefined\n",
    "    temp = []\n",
    "    for n in range(T):\n",
    "        dist = pdist(data[n])\n",
    "        temp.append(np.mean(np.sin(k * dist)/(k * dist)))\n",
    "    I_values.append(np.mean(temp))\n",
    "I_values = [1] + I_values                     # for k = 0, it should be 1"
   ]
  },
  {
   "cell_type": "code",
   "execution_count": null,
   "metadata": {
    "colab": {
     "base_uri": "https://localhost:8080/"
    },
    "id": "2ocVmZvfcLW0",
    "outputId": "76ce41bf-b98c-4988-8846-0130e9dde17c"
   },
   "outputs": [
    {
     "name": "stdout",
     "output_type": "stream",
     "text": [
      "0.9998722455307119\n",
      "-49.087691505239704 0.4530609648617422\n"
     ]
    }
   ],
   "source": [
    "xaxis = k_values[:5] ** 2\n",
    "X = np.array(xaxis).reshape(-1,1)\n",
    "Y = np.array(I_values[:5]).reshape(-1,1)\n",
    "reg = LinearRegression().fit(X, Y)\n",
    "reg_value = reg.score(X, Y)\n",
    "intercept = reg.intercept_\n",
    "coef = reg.coef_\n",
    "slope_uncertainty = abs(coef[0,0]) * np.sqrt(1/(len(xaxis) - 2) * (1-reg_value**2)/(reg_value**2))\n",
    "print(reg_value)\n",
    "print(coef[0,0], slope_uncertainty)"
   ]
  },
  {
   "cell_type": "code",
   "execution_count": null,
   "metadata": {
    "colab": {
     "base_uri": "https://localhost:8080/",
     "height": 196
    },
    "id": "eX4VZxK-2BMb",
    "outputId": "d2d071e1-a866-4f1a-ad10-8638c46beb5a"
   },
   "outputs": [
    {
     "data": {
      "image/png": "[encoded data removed]",
      "text/plain": [
       "<Figure size 288x187.2 with 1 Axes>"
      ]
     },
     "metadata": {
      "needs_background": "light"
     },
     "output_type": "display_data"
    }
   ],
   "source": [
    "# Theoretical value of Structure factor given by Guinier approximation\n",
    "RgTh, Gui = N * (b**2)/6, []\n",
    "for k in k_values:\n",
    "    Gui.append((1 - ((k * np.sqrt(RgTh))**2)/3))\n",
    "plt.scatter(k_values, I_values, s=16, facecolors='none', edgecolors='blue', label='Simulation')\n",
    "plt.plot(k_values, Gui, 'r', label='Guinier Approximation')\n",
    "plt.text(0, -0.5, '$R_g = {:10.4f} \\pm {:10.4f}$'.format(-3 * coef[0,0], np.sqrt(3) * slope_uncertainty))\n",
    "plt.text(0, -0.7, 'for $k \\in [0, 0.1]$')\n",
    "plt.xlabel('$k$')\n",
    "plt.ylabel('$I(k)$')\n",
    "plt.legend(loc=6)\n",
    "# plt.show()\n",
    "plt.savefig('structure.pgf')\n",
    "# make font size 6,6,6 to fit correctly in the pdf."
   ]
  },
  {
   "cell_type": "markdown",
   "metadata": {
    "id": "5lfwy4u6oy08"
   },
   "source": [
    "##### FURTHER GOAL"
   ]
  },
  {
   "cell_type": "code",
   "execution_count": null,
   "metadata": {
    "colab": {
     "base_uri": "https://localhost:8080/",
     "height": 190
    },
    "id": "k8PiKPlB2BMc",
    "outputId": "9a8ca2e8-fbb4-4a3f-a94a-cb931bfbe8fa"
   },
   "outputs": [
    {
     "data": {
      "image/png": "[encoded data removed]",
      "text/plain": [
       "<Figure size 288x180 with 1 Axes>"
      ]
     },
     "metadata": {
      "needs_background": "light"
     },
     "output_type": "display_data"
    }
   ],
   "source": [
    "def first_structure(F, N, b=3):\n",
    "  ''' Creates a first structure t = 0 before starting the extension\n",
    "  \n",
    "  Parameters:\n",
    "  ----------\n",
    "  F: float\n",
    "    Force applied along x-direction\n",
    "  N: int\n",
    "    The total number of monomers.\n",
    "  b: float\n",
    "    The bond lenght vector, default is 3.\n",
    "\n",
    "  Returns:\n",
    "  -------\n",
    "    a. The bond vector data, a N * 3 dimensional matrix\n",
    "    b. The end to end distance for the structure, [Qx, Qy, Qz].\n",
    "    c. The initial energy value\n",
    "  '''\n",
    "  bx, by , bz = np.random.uniform(-1,1,10*N), np.random.uniform(-1,1,10*N), np.random.uniform(-1,1,10*N)\n",
    "  normb=np.sqrt(bx**2+by**2+bz**2)\n",
    "\n",
    "  idb=np.where(normb<=1)[0][0:N]\n",
    "  bx, by , bz =bx[idb]/normb[idb], by[idb]/normb[idb], bz[idb]/normb[idb]\n",
    "\n",
    "  vb=b*np.array([bx,by,bz])\n",
    "  vb_save = np.copy(vb)\n",
    "  x, y, z = np.cumsum(vb[0])[-1], np.cumsum(vb[1])[-1], np.cumsum(vb[2])[-1]\n",
    "  Q = np.array([x, y, z])\n",
    "  Fx = np.array([F, 0, 0])           # Force along x-direction\n",
    "  Q = np.array([x, y, z])            # The end of the conformation\n",
    "  V = -np.dot(Fx, Q)                  # Calculation of the potential\n",
    "  return vb, Q, V\n",
    "\n",
    "\n",
    "def polymer_extension(F, vb, Q, V, b=3):\n",
    "  ''' Considering a force F along x-direction, the polymer is simulated to extend its end to end distance using \n",
    "      Metropolis Monte-Carlo Algorithm.\n",
    "\n",
    "  Parameters\n",
    "  ----------\n",
    "  F: float\n",
    "    Force applied along x-direction\n",
    "  vb: array\n",
    "    The bond vector data for N monomers.\n",
    "  Q: array\n",
    "    The 3 dimensional array for end-to-end distance.\n",
    "  b: float\n",
    "    The bond lenght vector, default is 3.\n",
    "\n",
    "  Returns\n",
    "  -------\n",
    "    End-to-End distance distance for each conformation\n",
    "  '''\n",
    "  F = np.array([F, 0, 0])\n",
    "  Q_data = []                 \n",
    "  max_count = 1000\n",
    "  counts = 0\n",
    "  while counts < max_count:\n",
    "      Qcopy = Q\n",
    "      vbCopy = vb\n",
    "      trialIn = np.random.randint(0, N)\n",
    "      tension = np.abs(np.dot(F, vbCopy[:,trialIn]))\n",
    "      vec = vbCopy[:,trialIn] + [tension, 0, 0]\n",
    "      norm = np.linalg.norm(vec)\n",
    "      vbCopy[:,trialIn] = b/norm * np.array(vec)\n",
    "      # vbRand = np.random.uniform(size=(3))\n",
    "      # vbRand = 2*b*1/np.linalg.norm(vbRand)*vbRand\n",
    "      # vbCopy[:,trialIn] = vbRand     # a random bond vector is changed with random values  \n",
    "      vbTrial = vbCopy\n",
    "      x, y , z = np.cumsum(vbTrial[0])[-1], np.cumsum(vbTrial[1])[-1], np.cumsum(vbTrial[2])[-1]\n",
    "      Qtrial = np.array([x, y, z])   # the end of the conformation is taken\n",
    "      Etrial = -np.dot(F, Qtrial)    # potential energy\n",
    "      deltaE = Etrial - V\n",
    "      if deltaE < 0:\n",
    "          # accept condition; save Q data\n",
    "          Q = Qtrial\n",
    "          vb = vbTrial\n",
    "          Q_data.append(Qtrial)\n",
    "      else:\n",
    "          xi = np.random.rand(1)\n",
    "          exp = np.exp(-deltaE)\n",
    "          if xi < exp:\n",
    "              # accept condition; save Q data\n",
    "              vb = vbTrial\n",
    "              Q = Qtrial\n",
    "              Q_data.append(Qtrial)\n",
    "          else:\n",
    "              # reject condition; carry over the same data\n",
    "              Q_data.append(Qcopy)\n",
    "      V = Etrial\n",
    "      counts += 1\n",
    "  Q_data = np.array(Q_data)    \n",
    "  return Q_data\n",
    "\n",
    "F = 10\n",
    "N = 100\n",
    "vb, Q, V = first_structure(F, N)\n",
    "Q_data = polymer_extension(F, vb, Q, V)\n",
    "alpha = ([F, 0, 0] * b)[0]\n",
    "kbT_param = 0.17\n",
    "Q_data = np.array(Q_data)\n",
    "xaxis = np.arange(0, len(Q_data))\n",
    "plt.plot(xaxis, Q_data[:,0], label='Simulation')\n",
    "alpha_lim, kbT_param = F * b, 0.17\n",
    "theo = N * b * (1/np.tanh(alpha_lim/kbT_param) - kbT_param/alpha_lim)\n",
    "plt.plot(xaxis, theo * np.ones(len(Q_data)), '--', label='Theoretical Limit', color='red')\n",
    "plt.xlabel('$t$')\n",
    "plt.ylabel('$Q_x$')\n",
    "plt.legend()\n",
    "# plt.show()\n",
    "plt.savefig('Xextension.pgf')\n",
    "print(np.amax(Q_data[:,0]))"
   ]
  },
  {
   "cell_type": "code",
   "execution_count": null,
   "metadata": {
    "colab": {
     "base_uri": "https://localhost:8080/",
     "height": 190
    },
    "id": "fSe88zGZmSg8",
    "outputId": "d055cb46-f287-4280-f13e-8f9ada4ae62e"
   },
   "outputs": [
    {
     "data": {
      "image/png": "[encoded data removed]",
      "text/plain": [
       "<Figure size 288x180 with 1 Axes>"
      ]
     },
     "metadata": {
      "needs_background": "light"
     },
     "output_type": "display_data"
    }
   ],
   "source": [
    "N = 500\n",
    "max_F = 10\n",
    "F_values = [0.1, 0.2, 0.5, 1, 2, 3, 4, 5, 6, 7, 8, 9, max_F]\n",
    "F_theo_values = np.arange(0.1, 10, 0.1)\n",
    "alpha_lim = ([max_F, 0, 0] * b)[0]\n",
    "kbT_param = 0.17\n",
    "theo_limit = N * b * (1/np.tanh(alpha_lim/kbT_param) - kbT_param/alpha_lim)\n",
    "extension_sim, extension_theoretical = [], []\n",
    "\n",
    "vb, Q, V = first_structure(max_F, N)\n",
    "for F in F_values:\n",
    "  Q_data = polymer_extension(F, vb, Q, V)\n",
    "  extension = Q_data[:,0][-1]\n",
    "  extension_sim.append(extension) \n",
    "extension_sim = np.array(extension_sim) * 1/extension_sim[-1]\n",
    "for F in F_theo_values:\n",
    "  alpha = ([F, 0, 0] * b)[0]\n",
    "  theo = N * b * (1/np.tanh(alpha/kbT_param) - kbT_param/alpha)\n",
    "  extension_theoretical.append(theo/theo_limit)\n",
    "\n",
    "plt.scatter(extension_sim, F_values, s=16, facecolors='none', edgecolors='blue', label='MC Simulation')\n",
    "plt.plot(extension_theoretical, F_theo_values, '--', label='Theoretical', color='red')\n",
    "plt.xlabel('Extension')\n",
    "plt.ylabel('Force')\n",
    "plt.legend()\n",
    "# plt.show()\n",
    "plt.savefig('force.pgf')"
   ]
  },
  {
   "cell_type": "code",
   "execution_count": null,
   "metadata": {
    "id": "rO8DEIlR9ehb"
   },
   "outputs": [],
   "source": [
    "# Only run this part of code if you wish to see the simulation of extension of the polymer\n",
    "\n",
    "'''\n",
    "import imageio\n",
    "def create_frame_xz(t):\n",
    "    fig = plt.figure(figsize=(16, 5))  \n",
    "    plt.plot(Q_data[:,0][:(t+1)], Q_data[:,2][:(t+1)], linewidth=3, color='grey')  \n",
    "    plt.scatter(Q_data[:,0][t], Q_data[:,2][t], s=50) \n",
    "    plt.xlim(0, max(Q_data[:,0]))\n",
    "    plt.ylim(0, max(Q_data[:,2]))\n",
    "    plt.xlabel('$Q_x$')\n",
    "    plt.ylabel('$Q_z$')\n",
    "    plt.savefig(f'./img/img_z{t}.png')    \n",
    "    plt.close()\n",
    "def create_frame_xy(t):\n",
    "    fig = plt.figure(figsize=(16, 5))  \n",
    "    plt.plot(Q_data[:,0][:(t+1)], Q_data[:,1][:(t+1)], linewidth=3, color='grey')  \n",
    "    plt.scatter(Q_data[:,0][t], Q_data[:,1][t], s=50) \n",
    "    plt.xlim(0, max(Q_data[:,0]))\n",
    "    plt.ylim(0, max(Q_data[:,1]))\n",
    "    plt.xlabel('$Q_x$')\n",
    "    plt.ylabel('$Q_y$')\n",
    "    plt.savefig(f'./img/img_y{t}.png')    \n",
    "    plt.close()\n",
    "\n",
    "for t in range(len(xaxis)):\n",
    "    create_frame_xz(t)\n",
    "    create_frame_xy(t)\n",
    "\n",
    "frames = []\n",
    "for t in xaxis:\n",
    "    imagey = imageio.imread(f'./img/img_y{t}.png')\n",
    "    imagez = imageio.imread(f'./img/img_z{t}.png')\n",
    "    framesy.append(imagey)\n",
    "    framesz.append(imagez)\n",
    "imageio.mimsave('./xy.gif',framesy,fps = 5)\n",
    "imageio.mimsave('./xz.gif',framesz,fps = 5)\n",
    "'''"
   ]
  }
 ],
 "metadata": {
  "colab": {
   "provenance": []
  },
  "kernelspec": {
   "display_name": "Python 3 (ipykernel)",
   "language": "python",
   "name": "python3"
  },
  "language_info": {
   "codemirror_mode": {
    "name": "ipython",
    "version": 3
   },
   "file_extension": ".py",
   "mimetype": "text/x-python",
   "name": "python",
   "nbconvert_exporter": "python",
   "pygments_lexer": "ipython3",
   "version": "3.10.9"
  }
 },
 "nbformat": 4,
 "nbformat_minor": 1
}
